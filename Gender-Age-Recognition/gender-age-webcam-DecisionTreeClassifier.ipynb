{
 "cells": [
  {
   "cell_type": "code",
   "execution_count": 1,
   "metadata": {},
   "outputs": [],
   "source": [
    "import cv2\n",
    "import numpy as np\n",
    "from sklearn.tree import DecisionTreeClassifier\n",
    "from sklearn.model_selection import train_test_split\n",
    "from sklearn.metrics import accuracy_score\n",
    "from sklearn.preprocessing import LabelEncoder\n",
    "import os"
   ]
  },
  {
   "cell_type": "code",
   "execution_count": 2,
   "metadata": {},
   "outputs": [],
   "source": [
    "def load_data():\n",
    "    np.random.seed(42)  # For reproducibility\n",
    "    data_size = 2000\n",
    "    X = np.random.rand(data_size, 64 * 64)  # Simulated 64x64 grayscale image features\n",
    "    y_gender = np.random.choice(['Male', 'Female'], size=data_size)\n",
    "    y_age = np.random.choice(['Child', 'Adult', 'Senior'], size=data_size)"
   ]
  },
  {
   "cell_type": "code",
   "execution_count": 3,
   "metadata": {},
   "outputs": [],
   "source": [
    "def load_data():\n",
    "    np.random.seed(42)  # For reproducibility\n",
    "    data_size = 2000\n",
    "    X = np.random.rand(data_size, 64 * 64)  # Simulated 64x64 grayscale image features\n",
    "    y_gender = np.random.choice(['Male', 'Female'], size=data_size)\n",
    "    y_age = np.random.choice(['Child', 'Adult', 'Senior'], size=data_size)\n",
    "\n",
    "    # Encode labels\n",
    "    gender_encoder = LabelEncoder()\n",
    "    age_encoder = LabelEncoder()\n",
    "    y_gender = gender_encoder.fit_transform(y_gender)\n",
    "    y_age = age_encoder.fit_transform(y_age)\n",
    "\n",
    "    X_train, X_test, y_gender_train, y_gender_test, y_age_train, y_age_test = train_test_split(\n",
    "        X, y_gender, y_age, test_size=0.7, random_state=42\n",
    "    )\n",
    "    return X_train, X_test, y_gender_train, y_gender_test, y_age_train, y_age_test, gender_encoder, age_encoder"
   ]
  },
  {
   "cell_type": "code",
   "execution_count": 4,
   "metadata": {},
   "outputs": [],
   "source": [
    "class GenderAgeModel:\n",
    "    def __init__(self):\n",
    "        self.gender_model = DecisionTreeClassifier(max_depth=10, random_state=42)\n",
    "        self.age_model = DecisionTreeClassifier(max_depth=10, random_state=42)\n",
    "\n",
    "    def train(self, X_train, y_gender_train, y_age_train):\n",
    "        self.gender_model.fit(X_train, y_gender_train)\n",
    "        self.age_model.fit(X_train, y_age_train)\n",
    "\n",
    "    def predict(self, X):\n",
    "        gender_pred = self.gender_model.predict(X)\n",
    "        age_pred = self.age_model.predict(X)\n",
    "        return gender_pred, age_pred\n",
    "\n",
    "    def accuracy(self, X_test, y_gender_test, y_age_test):\n",
    "        gender_acc = accuracy_score(y_gender_test, self.gender_model.predict(X_test))\n",
    "        age_acc = accuracy_score(y_age_test, self.age_model.predict(X_test))\n",
    "        return gender_acc, age_acc\n"
   ]
  },
  {
   "cell_type": "code",
   "execution_count": 5,
   "metadata": {},
   "outputs": [],
   "source": [
    "X_train, X_test, y_gender_train, y_gender_test, y_age_train, y_age_test, gender_encoder, age_encoder = load_data()\n",
    "model = GenderAgeModel()\n",
    "model.train(X_train, y_gender_train, y_age_train)"
   ]
  },
  {
   "cell_type": "code",
   "execution_count": 6,
   "metadata": {},
   "outputs": [
    {
     "name": "stdout",
     "output_type": "stream",
     "text": [
      "Gender Model Accuracy: 0.50\n",
      "Age Model Accuracy: 0.33\n"
     ]
    }
   ],
   "source": [
    "gender_acc, age_acc = model.accuracy(X_test, y_gender_test, y_age_test)\n",
    "print(f\"Gender Model Accuracy: {gender_acc:.2f}\")\n",
    "print(f\"Age Model Accuracy: {age_acc:.2f}\")"
   ]
  },
  {
   "cell_type": "code",
   "execution_count": null,
   "metadata": {},
   "outputs": [],
   "source": [
    "def live_detection(model, gender_encoder, age_encoder):\n",
    "    face_cascade = cv2.CascadeClassifier(cv2.data.haarcascades + 'haarcascade_frontalface_default.xml')\n",
    "    cap = cv2.VideoCapture(0)\n",
    "\n",
    "    while True:\n",
    "        ret, frame = cap.read()\n",
    "        if not ret:\n",
    "            break\n",
    "\n",
    "        gray = cv2.cvtColor(frame, cv2.COLOR_BGR2GRAY)\n",
    "        faces = face_cascade.detectMultiScale(gray, scaleFactor=1.3, minNeighbors=5)\n",
    "\n",
    "        for (x, y, w, h) in faces:\n",
    "            face = gray[y:y+h, x:x+w]\n",
    "            resized = cv2.resize(face, (64, 64)).flatten().reshape(1, -1)\n",
    "\n",
    "            gender_pred, age_pred = model.predict(resized)\n",
    "            gender_label = gender_encoder.inverse_transform([gender_pred[0]])[0]\n",
    "            age_label = age_encoder.inverse_transform([age_pred[0]])[0]\n",
    "\n",
    "            label = f\"Gender: {gender_label}, Age: {age_label}\"\n",
    "            cv2.rectangle(frame, (x, y), (x + w, y + h), (0, 255, 0), 2)\n",
    "            cv2.putText(frame, label, (x, y - 10), cv2.FONT_HERSHEY_SIMPLEX, 0.7, (255, 0, 0), 2)\n",
    "\n",
    "        cv2.imshow(\"Gender and Age Detection\", frame)\n",
    "\n",
    "        if cv2.waitKey(1) & 0xFF == ord('q'):\n",
    "            break\n",
    "\n",
    "    cap.release()\n",
    "    cv2.destroyAllWindows()\n",
    "\n",
    "live_detection(model, gender_encoder, age_encoder)"
   ]
  },
  {
   "cell_type": "code",
   "execution_count": null,
   "metadata": {},
   "outputs": [],
   "source": []
  },
  {
   "cell_type": "code",
   "execution_count": null,
   "metadata": {},
   "outputs": [],
   "source": []
  }
 ],
 "metadata": {
  "kernelspec": {
   "display_name": "Python 3",
   "language": "python",
   "name": "python3"
  },
  "language_info": {
   "codemirror_mode": {
    "name": "ipython",
    "version": 3
   },
   "file_extension": ".py",
   "mimetype": "text/x-python",
   "name": "python",
   "nbconvert_exporter": "python",
   "pygments_lexer": "ipython3",
   "version": "3.8.5"
  }
 },
 "nbformat": 4,
 "nbformat_minor": 4
}
