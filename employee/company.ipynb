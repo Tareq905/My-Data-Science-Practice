{
 "cells": [
  {
   "cell_type": "code",
   "execution_count": 1,
   "metadata": {},
   "outputs": [],
   "source": [
    "import pandas as pd\n",
    "import mysql.connector\n",
    "import pymysql"
   ]
  },
  {
   "cell_type": "code",
   "execution_count": 2,
   "metadata": {},
   "outputs": [],
   "source": [
    "db_config = {\n",
    "    'host': 'localhost',\n",
    "    'user': 'root',\n",
    "    'password': '@tareq...khan',\n",
    "    'database': 'company'\n",
    "}"
   ]
  },
  {
   "cell_type": "code",
   "execution_count": 3,
   "metadata": {},
   "outputs": [
    {
     "name": "stdout",
     "output_type": "stream",
     "text": [
      "CSV file loaded successfully!\n",
      "   Employee_ID                Name Department  Salary \n",
      "0            1  Md Tareq Shah Alam         IT   120000\n",
      "1            2     Muzahidul Islam    Finance    45000\n",
      "2            3               Sazib  Marketing    55000\n",
      "3            4  Mahmudul Hasan Sun  Marketing    42000\n",
      "4            5    Sopnil Himu Khan      Sales    86000\n"
     ]
    }
   ],
   "source": [
    "csv_file = 'employees.csv'\n",
    "try:\n",
    "    df = pd.read_csv(csv_file)\n",
    "    print(\"CSV file loaded successfully!\")\n",
    "    print(df.head())\n",
    "except Exception as e:\n",
    "    print(f\"Error loading CSV file: {e}\")"
   ]
  },
  {
   "cell_type": "code",
   "execution_count": 4,
   "metadata": {},
   "outputs": [
    {
     "name": "stdout",
     "output_type": "stream",
     "text": [
      "Connected to the database!\n"
     ]
    }
   ],
   "source": [
    "try:\n",
    "    conn = mysql.connector.connect(**db_config)\n",
    "    cursor = conn.cursor()\n",
    "    print(\"Connected to the database!\")\n",
    "except mysql.connector.Error as err:\n",
    "    print(f\"Error: {err}\")\n",
    "    exit()"
   ]
  },
  {
   "cell_type": "code",
   "execution_count": 5,
   "metadata": {},
   "outputs": [
    {
     "name": "stdout",
     "output_type": "stream",
     "text": [
      "Error inserting data into Employees table: 'Salary'\n"
     ]
    }
   ],
   "source": [
    "try:\n",
    "    for index, row in df.iterrows():\n",
    "        cursor.execute(\n",
    "            \"INSERT INTO Employees (Name, Salary) VALUES (%s, %s)\",\n",
    "            (row['Name'], row['Salary'])\n",
    "        )\n",
    "    conn.commit()\n",
    "    print(\"Data inserted into Employees table successfully!\")\n",
    "except Exception as e:\n",
    "    print(f\"Error inserting data into Employees table: {e}\")"
   ]
  },
  {
   "cell_type": "code",
   "execution_count": 16,
   "metadata": {},
   "outputs": [],
   "source": [
    "# Getting error to load the data into the database table."
   ]
  },
  {
   "cell_type": "code",
   "execution_count": 17,
   "metadata": {},
   "outputs": [
    {
     "name": "stdout",
     "output_type": "stream",
     "text": [
      "Index(['Employee_ID', 'Name', 'Department', 'Salary '], dtype='object')\n",
      "   Employee_ID                Name Department  Salary \n",
      "0            1  Md Tareq Shah Alam         IT   120000\n",
      "1            2     Muzahidul Islam    Finance    45000\n",
      "2            3               Sazib  Marketing    55000\n",
      "3            4  Mahmudul Hasan Sun  Marketing    42000\n",
      "4            5    Sopnil Himu Khan      Sales    86000\n"
     ]
    }
   ],
   "source": [
    "print(df.columns)\n",
    "print(df.head())"
   ]
  },
  {
   "cell_type": "code",
   "execution_count": 18,
   "metadata": {},
   "outputs": [],
   "source": [
    "# forcing to fix the issue by doing rename of it"
   ]
  },
  {
   "cell_type": "code",
   "execution_count": 19,
   "metadata": {},
   "outputs": [],
   "source": [
    "df.rename(columns={'ActualSalaryColumnName': 'Salary', 'ActualNameColumnName': 'Name'}, inplace=True)"
   ]
  },
  {
   "cell_type": "code",
   "execution_count": 20,
   "metadata": {},
   "outputs": [
    {
     "name": "stdout",
     "output_type": "stream",
     "text": [
      "   Employee_ID                Name Department  Salary \n",
      "0            1  Md Tareq Shah Alam         IT   120000\n",
      "1            2     Muzahidul Islam    Finance    45000\n",
      "2            3               Sazib  Marketing    55000\n",
      "3            4  Mahmudul Hasan Sun  Marketing    42000\n",
      "4            5    Sopnil Himu Khan      Sales    86000\n"
     ]
    }
   ],
   "source": [
    "df = pd.read_csv('employees.csv')\n",
    "print(df.head())"
   ]
  },
  {
   "cell_type": "code",
   "execution_count": 21,
   "metadata": {},
   "outputs": [
    {
     "name": "stdout",
     "output_type": "stream",
     "text": [
      "Index(['employee_id', 'name', 'department', 'salary'], dtype='object')\n"
     ]
    }
   ],
   "source": [
    "df.columns = df.columns.str.strip().str.lower()\n",
    "print(df.columns)"
   ]
  },
  {
   "cell_type": "code",
   "execution_count": 22,
   "metadata": {},
   "outputs": [],
   "source": [
    "# Now trying to adjust the logic"
   ]
  },
  {
   "cell_type": "code",
   "execution_count": 23,
   "metadata": {},
   "outputs": [],
   "source": [
    "for index, row in df.iterrows():\n",
    "    cursor.execute(\n",
    "        \"INSERT INTO Employees (Name, Salary) VALUES (%s, %s)\",\n",
    "        (row['name'], row['salary']) \n",
    "    )\n",
    "conn.commit()"
   ]
  },
  {
   "cell_type": "code",
   "execution_count": 25,
   "metadata": {},
   "outputs": [
    {
     "name": "stdout",
     "output_type": "stream",
     "text": [
      "Columns in DataFrame: Index(['employee_id', 'name', 'department', 'salary'], dtype='object')\n",
      "Error inserting data into Employees table: 'Name'\n"
     ]
    }
   ],
   "source": [
    "try:\n",
    "    print(\"Columns in DataFrame:\", df.columns)\n",
    "    df.rename(columns={'ActualSalaryColumnName': 'Salary', 'ActualNameColumnName': 'Name'}, inplace=True)\n",
    "    for index, row in df.iterrows():\n",
    "        cursor.execute(\n",
    "            \"INSERT INTO Employees (Name, Salary) VALUES (%s, %s)\",\n",
    "            (row['Name'], row['Salary'])\n",
    "        )\n",
    "    conn.commit()\n",
    "    print(\"Data inserted into Employees table successfully!\")\n",
    "except Exception as e:\n",
    "    print(f\"Error inserting data into Employees table: {e}\")"
   ]
  },
  {
   "cell_type": "code",
   "execution_count": 26,
   "metadata": {},
   "outputs": [
    {
     "name": "stdout",
     "output_type": "stream",
     "text": [
      "Error processing high salary data: 1054 (42S22): Unknown column 'Name' in 'field list'\n"
     ]
    }
   ],
   "source": [
    "try:\n",
    "    cursor.execute(\"SELECT Name, Salary FROM Employees WHERE Salary > 100000\")\n",
    "    high_salary_records = cursor.fetchall()\n",
    "\n",
    "    for record in high_salary_records:\n",
    "        cursor.execute(\n",
    "            \"INSERT INTO EmployeeHighSalary (Name, HighSalary) VALUES (%s, %s)\",\n",
    "            record\n",
    "        )\n",
    "    conn.commit()\n",
    "    print(\"High salary data inserted into EmployeeHighSalary table successfully!\")\n",
    "except Exception as e:\n",
    "    print(f\"Error processing high salary data: {e}\")"
   ]
  },
  {
   "cell_type": "code",
   "execution_count": 27,
   "metadata": {},
   "outputs": [
    {
     "name": "stdout",
     "output_type": "stream",
     "text": [
      "Error processing high salary data: 1054 (42S22): Unknown column 'Name' in 'field list'\n"
     ]
    }
   ],
   "source": [
    "try:\n",
    "    cursor.execute(\"SELECT Name, Salary FROM Employees WHERE Salary > 100000\")\n",
    "    high_salary_records = cursor.fetchall()\n",
    "\n",
    "    for record in high_salary_records:\n",
    "        cursor.execute(\n",
    "            \"INSERT INTO EmployeeHighSalary (Name, HighSalary) VALUES (%s, %s)\",\n",
    "            record\n",
    "        )\n",
    "    conn.commit()\n",
    "    print(\"High salary data inserted into EmployeeHighSalary table successfully!\")\n",
    "except Exception as e:\n",
    "    print(f\"Error processing high salary data: {e}\")"
   ]
  },
  {
   "cell_type": "code",
   "execution_count": 29,
   "metadata": {},
   "outputs": [
    {
     "name": "stdout",
     "output_type": "stream",
     "text": [
      "\n",
      "Contents of table Employees:\n",
      "(1, 'Muzahid', Decimal('120000.00'), 2)\n",
      "(2, 'Hapang', Decimal('95000.00'), 3)\n",
      "(3, 'Sazib', Decimal('105000.00'), 1)\n",
      "(4, 'Dibbendu', Decimal('85000.00'), 4)\n",
      "(5, 'Rinku', Decimal('80000.00'), 1)\n",
      "(6, 'Md Tareq Shah Alam', Decimal('120000.00'), None)\n",
      "(7, 'Muzahidul Islam', Decimal('45000.00'), None)\n",
      "(8, 'Sazib', Decimal('55000.00'), None)\n",
      "(9, 'Mahmudul Hasan Sun', Decimal('42000.00'), None)\n",
      "(10, 'Sopnil Himu Khan', Decimal('86000.00'), None)\n",
      "(11, 'Jim Al Sadik', Decimal('56000.00'), None)\n",
      "(12, 'Sakib Haque Zishan', Decimal('47000.00'), None)\n",
      "(13, 'Sheikh Arafa Hossain', Decimal('36000.00'), None)\n",
      "(14, 'Md Tousif Rahman', Decimal('43000.00'), None)\n",
      "(15, 'Rashidul Rimon', Decimal('40000.00'), None)\n",
      "\n",
      "Contents of table EmployeeHighSalary:\n",
      "(1, 1, Decimal('120000.00'))\n",
      "(2, 3, Decimal('105000.00'))\n"
     ]
    }
   ],
   "source": [
    "try:\n",
    "    tables = ['Employees', 'EmployeeHighSalary']\n",
    "    for table in tables:\n",
    "        cursor.execute(f\"SELECT * FROM {table}\")\n",
    "        rows = cursor.fetchall()\n",
    "        print(f\"\\nContents of table {table}:\")\n",
    "        for row in rows:\n",
    "            print(row)\n",
    "except Exception as e:\n",
    "    print(f\"Error displaying table contents: {e}\")"
   ]
  },
  {
   "cell_type": "code",
   "execution_count": 33,
   "metadata": {},
   "outputs": [
    {
     "name": "stdout",
     "output_type": "stream",
     "text": [
      " Successfully loaded all the data from Database and MySQL workbench.\n",
      " Now the connection has been closed.\n",
      " To check your confusion, please start operation from the beginning. \n",
      "Warm Regards, \n",
      "Md Tareq Shah Alam.\n"
     ]
    }
   ],
   "source": [
    "cursor.close()\n",
    "conn.close()\n",
    "print(\n",
    "    \" Successfully loaded all the data from Database and MySQL workbench.\\n\"\n",
    "    \" Now the connection has been closed.\\n\"\n",
    "    \" To check your confusion, please start operation from the beginning. \\n\"\n",
    "    \"Warm Regards, \\n\"\n",
    "    \"Md Tareq Shah Alam.\"\n",
    ")"
   ]
  },
  {
   "cell_type": "code",
   "execution_count": null,
   "metadata": {},
   "outputs": [],
   "source": []
  }
 ],
 "metadata": {
  "kernelspec": {
   "display_name": "Python 3",
   "language": "python",
   "name": "python3"
  },
  "language_info": {
   "codemirror_mode": {
    "name": "ipython",
    "version": 3
   },
   "file_extension": ".py",
   "mimetype": "text/x-python",
   "name": "python",
   "nbconvert_exporter": "python",
   "pygments_lexer": "ipython3",
   "version": "3.8.5"
  }
 },
 "nbformat": 4,
 "nbformat_minor": 4
}
